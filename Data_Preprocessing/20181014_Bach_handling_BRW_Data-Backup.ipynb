{
 "cells": [
  {
   "cell_type": "code",
   "execution_count": 2,
   "metadata": {},
   "outputs": [],
   "source": [
    "import pandas as pd\n",
    "import numpy as np"
   ]
  },
  {
   "cell_type": "code",
   "execution_count": 3,
   "metadata": {},
   "outputs": [],
   "source": [
    "dir=\"F:/研究生课题/##小论文写作/数据挖掘论文/Python_Project/Processed_Data\""
   ]
  },
  {
   "cell_type": "code",
   "execution_count": 4,
   "metadata": {},
   "outputs": [],
   "source": [
    "reside=[\"J1\",\"J2\",\"J3\",\"J4\",\"J5\",\"J6\",\"J7\",\"Z1\",\"Z2\",\"Z3\",\"Z4\",\"Z5\",\"Z6\"]\n",
    "reside=[\"J1\"]\n",
    "month=[\"02\",\"03\",\"04\",\"05\",\"06\",\"07\",\"08\",\"09\",\"10\",\"11\",\"12\"]"
   ]
  },
  {
   "cell_type": "code",
   "execution_count": 7,
   "metadata": {
    "scrolled": true
   },
   "outputs": [
    {
     "name": "stdout",
     "output_type": "stream",
     "text": [
      "F:/研究生课题/##小论文写作/数据挖掘论文/Python_Project/Processed_Data/J1/J1_02.xlsx\n",
      "F:/研究生课题/##小论文写作/数据挖掘论文/Python_Project/Processed_Data/J1/J1_03.xlsx\n",
      "F:/研究生课题/##小论文写作/数据挖掘论文/Python_Project/Processed_Data/J1/J1_04.xlsx\n",
      "F:/研究生课题/##小论文写作/数据挖掘论文/Python_Project/Processed_Data/J1/J1_05.xlsx\n",
      "F:/研究生课题/##小论文写作/数据挖掘论文/Python_Project/Processed_Data/J1/J1_06.xlsx\n",
      "F:/研究生课题/##小论文写作/数据挖掘论文/Python_Project/Processed_Data/J1/J1_07.xlsx\n",
      "F:/研究生课题/##小论文写作/数据挖掘论文/Python_Project/Processed_Data/J1/J1_08.xlsx\n",
      "F:/研究生课题/##小论文写作/数据挖掘论文/Python_Project/Processed_Data/J1/J1_09.xlsx\n",
      "F:/研究生课题/##小论文写作/数据挖掘论文/Python_Project/Processed_Data/J1/J1_10.xlsx\n",
      "F:/研究生课题/##小论文写作/数据挖掘论文/Python_Project/Processed_Data/J1/J1_11.xlsx\n",
      "F:/研究生课题/##小论文写作/数据挖掘论文/Python_Project/Processed_Data/J1/J1_12.xlsx\n"
     ]
    }
   ],
   "source": [
    "for res in reside:\n",
    "    res_data=pd.DataFrame([])\n",
    "    for m in month:\n",
    "        directory=dir+\"/\"+res+\"/\"+res+\"_\"+str(m)+\".xlsx\"\n",
    "        print(directory)\n",
    "                \n",
    "        data=pd.read_excel(directory,sheet_name=None)\n",
    "        ik=data['BR'].iloc[:,0:6]\n",
    "        TimeSeries=pd.to_datetime(data['BR'].iloc[:,0], format=\"%Y/%m/%d %H:%M:%S\")\n",
    "        TimeSeries=pd.DatetimeIndex(TimeSeries)\n",
    "        month=TimeSeries.month\n",
    "        week=TimeSeries.weekday\n",
    "        hour=TimeSeries.hour\n",
    "        month=pd.Series(month)\n",
    "        week=pd.Series(week)\n",
    "        hour=pd.Series(hour)\n",
    "        timefactor={\"Month\":month,\"Week\":week, \"Hour\":hour }\n",
    "        timefactor=pd.DataFrame(timefactor)\n",
    "        ik=pd.merge(timefactor,ik,left_index=True,right_index=True)\n",
    "        wt=data['WT'].iloc[:,1:5]\n",
    "        wt = pd.DataFrame(wt.values, columns=wt.columns)\n",
    "        BRW=data['BRWin'].iloc[:,0:1]\n",
    "        BRW = pd.DataFrame(BRW.values, columns=BRW.columns)\n",
    "        PM=data['PM'].iloc[:,1:]\n",
    "        PM = pd.DataFrame(PM.values, columns=PM.columns)\n",
    "        ikwt=pd.merge(ik,wt,left_index=True,right_index=True)\n",
    "        PMBRW=pd.merge(PM,BRW,left_index=True,right_index=True)\n",
    "        merged_data=pd.merge(ikwt,PMBRW,left_index=True,right_index=True,how=\"inner\")\n",
    "        res_data=pd.concat((res_data,merged_data), ignore_index=True,join=\"inner\")"
   ]
  },
  {
   "cell_type": "code",
   "execution_count": 8,
   "metadata": {},
   "outputs": [],
   "source": [
    "res_data.to_csv(dir+\"/\"+res+\"/\"+res+\"_annually_data.csv\")"
   ]
  }
 ],
 "metadata": {
  "kernelspec": {
   "display_name": "Python 3",
   "language": "python",
   "name": "python3"
  },
  "language_info": {
   "codemirror_mode": {
    "name": "ipython",
    "version": 3
   },
   "file_extension": ".py",
   "mimetype": "text/x-python",
   "name": "python",
   "nbconvert_exporter": "python",
   "pygments_lexer": "ipython3",
   "version": "3.6.4"
  }
 },
 "nbformat": 4,
 "nbformat_minor": 2
}
